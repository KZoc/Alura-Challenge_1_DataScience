{
  "nbformat": 4,
  "nbformat_minor": 0,
  "metadata": {
    "colab": {
      "name": "Challenge Data Science Alura - 2022.ipynb",
      "provenance": [],
      "collapsed_sections": [
        "hhFXLL69TKA9",
        "ojjerUZs6nJG"
      ],
      "include_colab_link": true
    },
    "kernelspec": {
      "name": "python3",
      "display_name": "Python 3"
    },
    "language_info": {
      "name": "python"
    }
  },
  "cells": [
    {
      "cell_type": "markdown",
      "metadata": {
        "id": "view-in-github",
        "colab_type": "text"
      },
      "source": [
        "<a href=\"https://colab.research.google.com/github/KZoc/Alura-Challenge_1_DataScience/blob/main/Notebooks/Challenge_Data_Science_Alura_2022.ipynb\" target=\"_parent\"><img src=\"https://colab.research.google.com/assets/colab-badge.svg\" alt=\"Open In Colab\"/></a>"
      ]
    },
    {
      "cell_type": "markdown",
      "source": [
        "<font color=green size=9>Análise de Dados - Churn Clientes Alura Voz</font>"
      ],
      "metadata": {
        "id": "_VDn49BhZJ2c"
      }
    },
    {
      "cell_type": "markdown",
      "source": [
        "\n",
        "##<font color=green> Dicionário de dados - Semana 1</font>"
      ],
      "metadata": {
        "id": "OFFTLBLQNRrW"
      }
    },
    {
      "cell_type": "markdown",
      "source": [
        "- **customerID:** número de identificação único de cada cliente\n",
        "- **Churn:** se o cliente deixou ou não a empresa\n",
        "- **gender:** gênero (masculino e feminino)\n",
        "- **SeniorCitizen:** informação sobre um cliente ter ou não idade igual ou maior que 65 anos\n",
        "- **Partner:** se o cliente possui ou não é parceiro ou parceiro\n",
        "- **Dependents:** se o cliente possui ou não dependentes\n",
        "- **tenure:** meses de contrato do cliente\n",
        "- **PhoneService:** assinatura de serviço telefônico\n",
        "- **MultipleLines:** assisnatura de mais de uma linha de telefone\n",
        "- **InternetService:** assinatura de um provedor internet\n",
        "- **OnlineSecurity:** assinatura adicional de segurança online\n",
        "- **OnlineBackup:** assinatura adicional de backup online\n",
        "- **DeviceProtection:** assinatura adicional de proteção no dispositivo\n",
        "- **TechSupport:** assinatura adicional de suporte técnico, menos tempo de espera\n",
        "- **StreamingTV:** assinatura de TV a cabo\n",
        "- **StreamingMovies:** assinatura de streaming de filmes\n",
        "- **Contract:** tipo de contrato\n",
        "- **PaperlessBilling:** se o cliente prefere receber online uma fatura\n",
        "- **PaymentMethod:** forma de pagamento\n",
        "- **Charges.Monthly:** total de todos os serviços do cliente por mês\n",
        "- **Charges.Total:** gasto total pelo cliente\n"
      ],
      "metadata": {
        "id": "vhBTY679Nqn5"
      }
    },
    {
      "cell_type": "markdown",
      "source": [
        "# <font color=green>Importando bibliotecas e carregando DataFrame</font>\n",
        "## (Importing libraries and loading DataFrame)"
      ],
      "metadata": {
        "id": "7A_88Rl2MDMR"
      }
    },
    {
      "cell_type": "code",
      "execution_count": 1,
      "metadata": {
        "id": "S2Q4u1GvKwgh"
      },
      "outputs": [],
      "source": [
        "import pandas as pd\n",
        "import numpy as np\n",
        "import seaborn as sns\n",
        "import json"
      ]
    },
    {
      "cell_type": "code",
      "source": [
        "# Definindo a quantidade máxima de colunas que poderão ser mostradas\n",
        "pd.set_option('display.max_columns', 30)"
      ],
      "metadata": {
        "id": "HezuV0KRPPjy"
      },
      "execution_count": 2,
      "outputs": []
    },
    {
      "cell_type": "code",
      "source": [
        "URL = 'https://raw.githubusercontent.com/KZoc/Alura-Challenge_1_DataScience/main/Dados/Telco-Customer-Churn.json'\n",
        "df_0 = pd.read_json(URL)\n",
        "df_0.head()"
      ],
      "metadata": {
        "colab": {
          "base_uri": "https://localhost:8080/",
          "height": 206
        },
        "id": "upPtN2QlMCMY",
        "outputId": "459860dd-ce00-49de-df23-b683e693ee2b"
      },
      "execution_count": 3,
      "outputs": [
        {
          "output_type": "execute_result",
          "data": {
            "text/plain": [
              "   customerID Churn                                           customer  \\\n",
              "0  0002-ORFBO    No  {'gender': 'Female', 'SeniorCitizen': 0, 'Part...   \n",
              "1  0003-MKNFE    No  {'gender': 'Male', 'SeniorCitizen': 0, 'Partne...   \n",
              "2  0004-TLHLJ   Yes  {'gender': 'Male', 'SeniorCitizen': 0, 'Partne...   \n",
              "3  0011-IGKFF   Yes  {'gender': 'Male', 'SeniorCitizen': 1, 'Partne...   \n",
              "4  0013-EXCHZ   Yes  {'gender': 'Female', 'SeniorCitizen': 1, 'Part...   \n",
              "\n",
              "                                             phone  \\\n",
              "0   {'PhoneService': 'Yes', 'MultipleLines': 'No'}   \n",
              "1  {'PhoneService': 'Yes', 'MultipleLines': 'Yes'}   \n",
              "2   {'PhoneService': 'Yes', 'MultipleLines': 'No'}   \n",
              "3   {'PhoneService': 'Yes', 'MultipleLines': 'No'}   \n",
              "4   {'PhoneService': 'Yes', 'MultipleLines': 'No'}   \n",
              "\n",
              "                                            internet  \\\n",
              "0  {'InternetService': 'DSL', 'OnlineSecurity': '...   \n",
              "1  {'InternetService': 'DSL', 'OnlineSecurity': '...   \n",
              "2  {'InternetService': 'Fiber optic', 'OnlineSecu...   \n",
              "3  {'InternetService': 'Fiber optic', 'OnlineSecu...   \n",
              "4  {'InternetService': 'Fiber optic', 'OnlineSecu...   \n",
              "\n",
              "                                             account  \n",
              "0  {'Contract': 'One year', 'PaperlessBilling': '...  \n",
              "1  {'Contract': 'Month-to-month', 'PaperlessBilli...  \n",
              "2  {'Contract': 'Month-to-month', 'PaperlessBilli...  \n",
              "3  {'Contract': 'Month-to-month', 'PaperlessBilli...  \n",
              "4  {'Contract': 'Month-to-month', 'PaperlessBilli...  "
            ],
            "text/html": [
              "\n",
              "  <div id=\"df-e74ef669-3269-4ea1-82c8-f9ea4af1539d\">\n",
              "    <div class=\"colab-df-container\">\n",
              "      <div>\n",
              "<style scoped>\n",
              "    .dataframe tbody tr th:only-of-type {\n",
              "        vertical-align: middle;\n",
              "    }\n",
              "\n",
              "    .dataframe tbody tr th {\n",
              "        vertical-align: top;\n",
              "    }\n",
              "\n",
              "    .dataframe thead th {\n",
              "        text-align: right;\n",
              "    }\n",
              "</style>\n",
              "<table border=\"1\" class=\"dataframe\">\n",
              "  <thead>\n",
              "    <tr style=\"text-align: right;\">\n",
              "      <th></th>\n",
              "      <th>customerID</th>\n",
              "      <th>Churn</th>\n",
              "      <th>customer</th>\n",
              "      <th>phone</th>\n",
              "      <th>internet</th>\n",
              "      <th>account</th>\n",
              "    </tr>\n",
              "  </thead>\n",
              "  <tbody>\n",
              "    <tr>\n",
              "      <th>0</th>\n",
              "      <td>0002-ORFBO</td>\n",
              "      <td>No</td>\n",
              "      <td>{'gender': 'Female', 'SeniorCitizen': 0, 'Part...</td>\n",
              "      <td>{'PhoneService': 'Yes', 'MultipleLines': 'No'}</td>\n",
              "      <td>{'InternetService': 'DSL', 'OnlineSecurity': '...</td>\n",
              "      <td>{'Contract': 'One year', 'PaperlessBilling': '...</td>\n",
              "    </tr>\n",
              "    <tr>\n",
              "      <th>1</th>\n",
              "      <td>0003-MKNFE</td>\n",
              "      <td>No</td>\n",
              "      <td>{'gender': 'Male', 'SeniorCitizen': 0, 'Partne...</td>\n",
              "      <td>{'PhoneService': 'Yes', 'MultipleLines': 'Yes'}</td>\n",
              "      <td>{'InternetService': 'DSL', 'OnlineSecurity': '...</td>\n",
              "      <td>{'Contract': 'Month-to-month', 'PaperlessBilli...</td>\n",
              "    </tr>\n",
              "    <tr>\n",
              "      <th>2</th>\n",
              "      <td>0004-TLHLJ</td>\n",
              "      <td>Yes</td>\n",
              "      <td>{'gender': 'Male', 'SeniorCitizen': 0, 'Partne...</td>\n",
              "      <td>{'PhoneService': 'Yes', 'MultipleLines': 'No'}</td>\n",
              "      <td>{'InternetService': 'Fiber optic', 'OnlineSecu...</td>\n",
              "      <td>{'Contract': 'Month-to-month', 'PaperlessBilli...</td>\n",
              "    </tr>\n",
              "    <tr>\n",
              "      <th>3</th>\n",
              "      <td>0011-IGKFF</td>\n",
              "      <td>Yes</td>\n",
              "      <td>{'gender': 'Male', 'SeniorCitizen': 1, 'Partne...</td>\n",
              "      <td>{'PhoneService': 'Yes', 'MultipleLines': 'No'}</td>\n",
              "      <td>{'InternetService': 'Fiber optic', 'OnlineSecu...</td>\n",
              "      <td>{'Contract': 'Month-to-month', 'PaperlessBilli...</td>\n",
              "    </tr>\n",
              "    <tr>\n",
              "      <th>4</th>\n",
              "      <td>0013-EXCHZ</td>\n",
              "      <td>Yes</td>\n",
              "      <td>{'gender': 'Female', 'SeniorCitizen': 1, 'Part...</td>\n",
              "      <td>{'PhoneService': 'Yes', 'MultipleLines': 'No'}</td>\n",
              "      <td>{'InternetService': 'Fiber optic', 'OnlineSecu...</td>\n",
              "      <td>{'Contract': 'Month-to-month', 'PaperlessBilli...</td>\n",
              "    </tr>\n",
              "  </tbody>\n",
              "</table>\n",
              "</div>\n",
              "      <button class=\"colab-df-convert\" onclick=\"convertToInteractive('df-e74ef669-3269-4ea1-82c8-f9ea4af1539d')\"\n",
              "              title=\"Convert this dataframe to an interactive table.\"\n",
              "              style=\"display:none;\">\n",
              "        \n",
              "  <svg xmlns=\"http://www.w3.org/2000/svg\" height=\"24px\"viewBox=\"0 0 24 24\"\n",
              "       width=\"24px\">\n",
              "    <path d=\"M0 0h24v24H0V0z\" fill=\"none\"/>\n",
              "    <path d=\"M18.56 5.44l.94 2.06.94-2.06 2.06-.94-2.06-.94-.94-2.06-.94 2.06-2.06.94zm-11 1L8.5 8.5l.94-2.06 2.06-.94-2.06-.94L8.5 2.5l-.94 2.06-2.06.94zm10 10l.94 2.06.94-2.06 2.06-.94-2.06-.94-.94-2.06-.94 2.06-2.06.94z\"/><path d=\"M17.41 7.96l-1.37-1.37c-.4-.4-.92-.59-1.43-.59-.52 0-1.04.2-1.43.59L10.3 9.45l-7.72 7.72c-.78.78-.78 2.05 0 2.83L4 21.41c.39.39.9.59 1.41.59.51 0 1.02-.2 1.41-.59l7.78-7.78 2.81-2.81c.8-.78.8-2.07 0-2.86zM5.41 20L4 18.59l7.72-7.72 1.47 1.35L5.41 20z\"/>\n",
              "  </svg>\n",
              "      </button>\n",
              "      \n",
              "  <style>\n",
              "    .colab-df-container {\n",
              "      display:flex;\n",
              "      flex-wrap:wrap;\n",
              "      gap: 12px;\n",
              "    }\n",
              "\n",
              "    .colab-df-convert {\n",
              "      background-color: #E8F0FE;\n",
              "      border: none;\n",
              "      border-radius: 50%;\n",
              "      cursor: pointer;\n",
              "      display: none;\n",
              "      fill: #1967D2;\n",
              "      height: 32px;\n",
              "      padding: 0 0 0 0;\n",
              "      width: 32px;\n",
              "    }\n",
              "\n",
              "    .colab-df-convert:hover {\n",
              "      background-color: #E2EBFA;\n",
              "      box-shadow: 0px 1px 2px rgba(60, 64, 67, 0.3), 0px 1px 3px 1px rgba(60, 64, 67, 0.15);\n",
              "      fill: #174EA6;\n",
              "    }\n",
              "\n",
              "    [theme=dark] .colab-df-convert {\n",
              "      background-color: #3B4455;\n",
              "      fill: #D2E3FC;\n",
              "    }\n",
              "\n",
              "    [theme=dark] .colab-df-convert:hover {\n",
              "      background-color: #434B5C;\n",
              "      box-shadow: 0px 1px 3px 1px rgba(0, 0, 0, 0.15);\n",
              "      filter: drop-shadow(0px 1px 2px rgba(0, 0, 0, 0.3));\n",
              "      fill: #FFFFFF;\n",
              "    }\n",
              "  </style>\n",
              "\n",
              "      <script>\n",
              "        const buttonEl =\n",
              "          document.querySelector('#df-e74ef669-3269-4ea1-82c8-f9ea4af1539d button.colab-df-convert');\n",
              "        buttonEl.style.display =\n",
              "          google.colab.kernel.accessAllowed ? 'block' : 'none';\n",
              "\n",
              "        async function convertToInteractive(key) {\n",
              "          const element = document.querySelector('#df-e74ef669-3269-4ea1-82c8-f9ea4af1539d');\n",
              "          const dataTable =\n",
              "            await google.colab.kernel.invokeFunction('convertToInteractive',\n",
              "                                                     [key], {});\n",
              "          if (!dataTable) return;\n",
              "\n",
              "          const docLinkHtml = 'Like what you see? Visit the ' +\n",
              "            '<a target=\"_blank\" href=https://colab.research.google.com/notebooks/data_table.ipynb>data table notebook</a>'\n",
              "            + ' to learn more about interactive tables.';\n",
              "          element.innerHTML = '';\n",
              "          dataTable['output_type'] = 'display_data';\n",
              "          await google.colab.output.renderOutput(dataTable, element);\n",
              "          const docLink = document.createElement('div');\n",
              "          docLink.innerHTML = docLinkHtml;\n",
              "          element.appendChild(docLink);\n",
              "        }\n",
              "      </script>\n",
              "    </div>\n",
              "  </div>\n",
              "  "
            ]
          },
          "metadata": {},
          "execution_count": 3
        }
      ]
    },
    {
      "cell_type": "markdown",
      "source": [
        "# <font color=green>Tratamento dos dados e Organização do DataFrame</font>\n",
        "## (Data handling and Organization of the DataFrame)"
      ],
      "metadata": {
        "id": "uGai-4ZjQRLY"
      }
    },
    {
      "cell_type": "markdown",
      "source": [
        "## <font color=green>Análise Básica Preliminar dos Dados</font>"
      ],
      "metadata": {
        "id": "hhFXLL69TKA9"
      }
    },
    {
      "cell_type": "code",
      "source": [
        "with open('https://raw.githubusercontent.com/KZoc/Alura-Challenge_1_DataScience/main/Dados/Telco-Customer-Churn.json') as data_file:    #Aqui normalizei os dados json que estavam aninhados nas colunas, desta forma obtive a separação deles em novas colunas\n",
        "  chaves = json.load(df_0)\n",
        "  df_normalizado = pd.json_normalize(chaves)\n",
        "\n",
        "df_normalizado"
      ],
      "metadata": {
        "colab": {
          "base_uri": "https://localhost:8080/",
          "height": 252
        },
        "id": "Pdia9yKdwaxR",
        "outputId": "c175a265-5794-4f08-c741-ebe577c4780c"
      },
      "execution_count": 17,
      "outputs": [
        {
          "output_type": "error",
          "ename": "FileNotFoundError",
          "evalue": "ignored",
          "traceback": [
            "\u001b[0;31m---------------------------------------------------------------------------\u001b[0m",
            "\u001b[0;31mFileNotFoundError\u001b[0m                         Traceback (most recent call last)",
            "\u001b[0;32m<ipython-input-17-293f632c0607>\u001b[0m in \u001b[0;36m<module>\u001b[0;34m()\u001b[0m\n\u001b[0;32m----> 1\u001b[0;31m \u001b[0;32mwith\u001b[0m \u001b[0mopen\u001b[0m\u001b[0;34m(\u001b[0m\u001b[0;34m'https://raw.githubusercontent.com/KZoc/Alura-Challenge_1_DataScience/main/Dados/Telco-Customer-Churn.json'\u001b[0m\u001b[0;34m)\u001b[0m \u001b[0;32mas\u001b[0m \u001b[0mdata_file\u001b[0m\u001b[0;34m:\u001b[0m    \u001b[0;31m#Aqui normalizei os dados json que estavam aninhados nas colunas, desta forma obtive a separação deles em novas colunas\u001b[0m\u001b[0;34m\u001b[0m\u001b[0;34m\u001b[0m\u001b[0m\n\u001b[0m\u001b[1;32m      2\u001b[0m   \u001b[0mchaves\u001b[0m \u001b[0;34m=\u001b[0m \u001b[0mjson\u001b[0m\u001b[0;34m.\u001b[0m\u001b[0mload\u001b[0m\u001b[0;34m(\u001b[0m\u001b[0mdf_0\u001b[0m\u001b[0;34m)\u001b[0m\u001b[0;34m\u001b[0m\u001b[0;34m\u001b[0m\u001b[0m\n\u001b[1;32m      3\u001b[0m   \u001b[0mdf_normalizado\u001b[0m \u001b[0;34m=\u001b[0m \u001b[0mpd\u001b[0m\u001b[0;34m.\u001b[0m\u001b[0mjson_normalize\u001b[0m\u001b[0;34m(\u001b[0m\u001b[0mchaves\u001b[0m\u001b[0;34m)\u001b[0m\u001b[0;34m\u001b[0m\u001b[0;34m\u001b[0m\u001b[0m\n\u001b[1;32m      4\u001b[0m \u001b[0;34m\u001b[0m\u001b[0m\n\u001b[1;32m      5\u001b[0m \u001b[0mdf_normalizado\u001b[0m\u001b[0;34m\u001b[0m\u001b[0;34m\u001b[0m\u001b[0m\n",
            "\u001b[0;31mFileNotFoundError\u001b[0m: [Errno 2] No such file or directory: 'https://raw.githubusercontent.com/KZoc/Alura-Challenge_1_DataScience/main/Dados/Telco-Customer-Churn.json'"
          ]
        }
      ]
    },
    {
      "cell_type": "code",
      "source": [
        "df_0.count()    #Verificando número de linhas no dataframe"
      ],
      "metadata": {
        "colab": {
          "base_uri": "https://localhost:8080/"
        },
        "id": "z5pm2rCEM2M4",
        "outputId": "6e65bc02-3651-4e55-a8e7-dcd00b2c9742"
      },
      "execution_count": 18,
      "outputs": [
        {
          "output_type": "execute_result",
          "data": {
            "text/plain": [
              "customerID    7267\n",
              "Churn         7267\n",
              "customer      7267\n",
              "phone         7267\n",
              "internet      7267\n",
              "account       7267\n",
              "dtype: int64"
            ]
          },
          "metadata": {},
          "execution_count": 18
        }
      ]
    },
    {
      "cell_type": "code",
      "source": [
        "df_0.Churn.value_counts()     #Verificando quantidades de clientes desistentes e que permanecem.  Obs. No resultado podemos ver que existem 224 clientes não categorizados quanto a evasão."
      ],
      "metadata": {
        "colab": {
          "base_uri": "https://localhost:8080/"
        },
        "id": "2owJ12RAQTMg",
        "outputId": "0ca386dd-4c99-478a-8605-4fa95c1b262f"
      },
      "execution_count": 19,
      "outputs": [
        {
          "output_type": "execute_result",
          "data": {
            "text/plain": [
              "No     5174\n",
              "Yes    1869\n",
              "        224\n",
              "Name: Churn, dtype: int64"
            ]
          },
          "metadata": {},
          "execution_count": 19
        }
      ]
    },
    {
      "cell_type": "code",
      "source": [
        "df_0    #Nota-se que existem dados aninhados dentro de algumas colunas, o que impossibilita a análise na forma em que está. Para resolver vou separar esses dados em novas colunas"
      ],
      "metadata": {
        "colab": {
          "base_uri": "https://localhost:8080/",
          "height": 424
        },
        "id": "s49gURvZqLT1",
        "outputId": "e3fb9344-238d-4201-ada9-0b00a276977b"
      },
      "execution_count": 20,
      "outputs": [
        {
          "output_type": "execute_result",
          "data": {
            "text/plain": [
              "      customerID Churn                                           customer  \\\n",
              "0     0002-ORFBO    No  {'gender': 'Female', 'SeniorCitizen': 0, 'Part...   \n",
              "1     0003-MKNFE    No  {'gender': 'Male', 'SeniorCitizen': 0, 'Partne...   \n",
              "2     0004-TLHLJ   Yes  {'gender': 'Male', 'SeniorCitizen': 0, 'Partne...   \n",
              "3     0011-IGKFF   Yes  {'gender': 'Male', 'SeniorCitizen': 1, 'Partne...   \n",
              "4     0013-EXCHZ   Yes  {'gender': 'Female', 'SeniorCitizen': 1, 'Part...   \n",
              "...          ...   ...                                                ...   \n",
              "7262  9987-LUTYD    No  {'gender': 'Female', 'SeniorCitizen': 0, 'Part...   \n",
              "7263  9992-RRAMN   Yes  {'gender': 'Male', 'SeniorCitizen': 0, 'Partne...   \n",
              "7264  9992-UJOEL    No  {'gender': 'Male', 'SeniorCitizen': 0, 'Partne...   \n",
              "7265  9993-LHIEB    No  {'gender': 'Male', 'SeniorCitizen': 0, 'Partne...   \n",
              "7266  9995-HOTOH    No  {'gender': 'Male', 'SeniorCitizen': 0, 'Partne...   \n",
              "\n",
              "                                                  phone  \\\n",
              "0        {'PhoneService': 'Yes', 'MultipleLines': 'No'}   \n",
              "1       {'PhoneService': 'Yes', 'MultipleLines': 'Yes'}   \n",
              "2        {'PhoneService': 'Yes', 'MultipleLines': 'No'}   \n",
              "3        {'PhoneService': 'Yes', 'MultipleLines': 'No'}   \n",
              "4        {'PhoneService': 'Yes', 'MultipleLines': 'No'}   \n",
              "...                                                 ...   \n",
              "7262     {'PhoneService': 'Yes', 'MultipleLines': 'No'}   \n",
              "7263    {'PhoneService': 'Yes', 'MultipleLines': 'Yes'}   \n",
              "7264     {'PhoneService': 'Yes', 'MultipleLines': 'No'}   \n",
              "7265     {'PhoneService': 'Yes', 'MultipleLines': 'No'}   \n",
              "7266  {'PhoneService': 'No', 'MultipleLines': 'No ph...   \n",
              "\n",
              "                                               internet  \\\n",
              "0     {'InternetService': 'DSL', 'OnlineSecurity': '...   \n",
              "1     {'InternetService': 'DSL', 'OnlineSecurity': '...   \n",
              "2     {'InternetService': 'Fiber optic', 'OnlineSecu...   \n",
              "3     {'InternetService': 'Fiber optic', 'OnlineSecu...   \n",
              "4     {'InternetService': 'Fiber optic', 'OnlineSecu...   \n",
              "...                                                 ...   \n",
              "7262  {'InternetService': 'DSL', 'OnlineSecurity': '...   \n",
              "7263  {'InternetService': 'Fiber optic', 'OnlineSecu...   \n",
              "7264  {'InternetService': 'DSL', 'OnlineSecurity': '...   \n",
              "7265  {'InternetService': 'DSL', 'OnlineSecurity': '...   \n",
              "7266  {'InternetService': 'DSL', 'OnlineSecurity': '...   \n",
              "\n",
              "                                                account  \n",
              "0     {'Contract': 'One year', 'PaperlessBilling': '...  \n",
              "1     {'Contract': 'Month-to-month', 'PaperlessBilli...  \n",
              "2     {'Contract': 'Month-to-month', 'PaperlessBilli...  \n",
              "3     {'Contract': 'Month-to-month', 'PaperlessBilli...  \n",
              "4     {'Contract': 'Month-to-month', 'PaperlessBilli...  \n",
              "...                                                 ...  \n",
              "7262  {'Contract': 'One year', 'PaperlessBilling': '...  \n",
              "7263  {'Contract': 'Month-to-month', 'PaperlessBilli...  \n",
              "7264  {'Contract': 'Month-to-month', 'PaperlessBilli...  \n",
              "7265  {'Contract': 'Two year', 'PaperlessBilling': '...  \n",
              "7266  {'Contract': 'Two year', 'PaperlessBilling': '...  \n",
              "\n",
              "[7267 rows x 6 columns]"
            ],
            "text/html": [
              "\n",
              "  <div id=\"df-690c0e98-eec3-425a-8a92-aaa14675e443\">\n",
              "    <div class=\"colab-df-container\">\n",
              "      <div>\n",
              "<style scoped>\n",
              "    .dataframe tbody tr th:only-of-type {\n",
              "        vertical-align: middle;\n",
              "    }\n",
              "\n",
              "    .dataframe tbody tr th {\n",
              "        vertical-align: top;\n",
              "    }\n",
              "\n",
              "    .dataframe thead th {\n",
              "        text-align: right;\n",
              "    }\n",
              "</style>\n",
              "<table border=\"1\" class=\"dataframe\">\n",
              "  <thead>\n",
              "    <tr style=\"text-align: right;\">\n",
              "      <th></th>\n",
              "      <th>customerID</th>\n",
              "      <th>Churn</th>\n",
              "      <th>customer</th>\n",
              "      <th>phone</th>\n",
              "      <th>internet</th>\n",
              "      <th>account</th>\n",
              "    </tr>\n",
              "  </thead>\n",
              "  <tbody>\n",
              "    <tr>\n",
              "      <th>0</th>\n",
              "      <td>0002-ORFBO</td>\n",
              "      <td>No</td>\n",
              "      <td>{'gender': 'Female', 'SeniorCitizen': 0, 'Part...</td>\n",
              "      <td>{'PhoneService': 'Yes', 'MultipleLines': 'No'}</td>\n",
              "      <td>{'InternetService': 'DSL', 'OnlineSecurity': '...</td>\n",
              "      <td>{'Contract': 'One year', 'PaperlessBilling': '...</td>\n",
              "    </tr>\n",
              "    <tr>\n",
              "      <th>1</th>\n",
              "      <td>0003-MKNFE</td>\n",
              "      <td>No</td>\n",
              "      <td>{'gender': 'Male', 'SeniorCitizen': 0, 'Partne...</td>\n",
              "      <td>{'PhoneService': 'Yes', 'MultipleLines': 'Yes'}</td>\n",
              "      <td>{'InternetService': 'DSL', 'OnlineSecurity': '...</td>\n",
              "      <td>{'Contract': 'Month-to-month', 'PaperlessBilli...</td>\n",
              "    </tr>\n",
              "    <tr>\n",
              "      <th>2</th>\n",
              "      <td>0004-TLHLJ</td>\n",
              "      <td>Yes</td>\n",
              "      <td>{'gender': 'Male', 'SeniorCitizen': 0, 'Partne...</td>\n",
              "      <td>{'PhoneService': 'Yes', 'MultipleLines': 'No'}</td>\n",
              "      <td>{'InternetService': 'Fiber optic', 'OnlineSecu...</td>\n",
              "      <td>{'Contract': 'Month-to-month', 'PaperlessBilli...</td>\n",
              "    </tr>\n",
              "    <tr>\n",
              "      <th>3</th>\n",
              "      <td>0011-IGKFF</td>\n",
              "      <td>Yes</td>\n",
              "      <td>{'gender': 'Male', 'SeniorCitizen': 1, 'Partne...</td>\n",
              "      <td>{'PhoneService': 'Yes', 'MultipleLines': 'No'}</td>\n",
              "      <td>{'InternetService': 'Fiber optic', 'OnlineSecu...</td>\n",
              "      <td>{'Contract': 'Month-to-month', 'PaperlessBilli...</td>\n",
              "    </tr>\n",
              "    <tr>\n",
              "      <th>4</th>\n",
              "      <td>0013-EXCHZ</td>\n",
              "      <td>Yes</td>\n",
              "      <td>{'gender': 'Female', 'SeniorCitizen': 1, 'Part...</td>\n",
              "      <td>{'PhoneService': 'Yes', 'MultipleLines': 'No'}</td>\n",
              "      <td>{'InternetService': 'Fiber optic', 'OnlineSecu...</td>\n",
              "      <td>{'Contract': 'Month-to-month', 'PaperlessBilli...</td>\n",
              "    </tr>\n",
              "    <tr>\n",
              "      <th>...</th>\n",
              "      <td>...</td>\n",
              "      <td>...</td>\n",
              "      <td>...</td>\n",
              "      <td>...</td>\n",
              "      <td>...</td>\n",
              "      <td>...</td>\n",
              "    </tr>\n",
              "    <tr>\n",
              "      <th>7262</th>\n",
              "      <td>9987-LUTYD</td>\n",
              "      <td>No</td>\n",
              "      <td>{'gender': 'Female', 'SeniorCitizen': 0, 'Part...</td>\n",
              "      <td>{'PhoneService': 'Yes', 'MultipleLines': 'No'}</td>\n",
              "      <td>{'InternetService': 'DSL', 'OnlineSecurity': '...</td>\n",
              "      <td>{'Contract': 'One year', 'PaperlessBilling': '...</td>\n",
              "    </tr>\n",
              "    <tr>\n",
              "      <th>7263</th>\n",
              "      <td>9992-RRAMN</td>\n",
              "      <td>Yes</td>\n",
              "      <td>{'gender': 'Male', 'SeniorCitizen': 0, 'Partne...</td>\n",
              "      <td>{'PhoneService': 'Yes', 'MultipleLines': 'Yes'}</td>\n",
              "      <td>{'InternetService': 'Fiber optic', 'OnlineSecu...</td>\n",
              "      <td>{'Contract': 'Month-to-month', 'PaperlessBilli...</td>\n",
              "    </tr>\n",
              "    <tr>\n",
              "      <th>7264</th>\n",
              "      <td>9992-UJOEL</td>\n",
              "      <td>No</td>\n",
              "      <td>{'gender': 'Male', 'SeniorCitizen': 0, 'Partne...</td>\n",
              "      <td>{'PhoneService': 'Yes', 'MultipleLines': 'No'}</td>\n",
              "      <td>{'InternetService': 'DSL', 'OnlineSecurity': '...</td>\n",
              "      <td>{'Contract': 'Month-to-month', 'PaperlessBilli...</td>\n",
              "    </tr>\n",
              "    <tr>\n",
              "      <th>7265</th>\n",
              "      <td>9993-LHIEB</td>\n",
              "      <td>No</td>\n",
              "      <td>{'gender': 'Male', 'SeniorCitizen': 0, 'Partne...</td>\n",
              "      <td>{'PhoneService': 'Yes', 'MultipleLines': 'No'}</td>\n",
              "      <td>{'InternetService': 'DSL', 'OnlineSecurity': '...</td>\n",
              "      <td>{'Contract': 'Two year', 'PaperlessBilling': '...</td>\n",
              "    </tr>\n",
              "    <tr>\n",
              "      <th>7266</th>\n",
              "      <td>9995-HOTOH</td>\n",
              "      <td>No</td>\n",
              "      <td>{'gender': 'Male', 'SeniorCitizen': 0, 'Partne...</td>\n",
              "      <td>{'PhoneService': 'No', 'MultipleLines': 'No ph...</td>\n",
              "      <td>{'InternetService': 'DSL', 'OnlineSecurity': '...</td>\n",
              "      <td>{'Contract': 'Two year', 'PaperlessBilling': '...</td>\n",
              "    </tr>\n",
              "  </tbody>\n",
              "</table>\n",
              "<p>7267 rows × 6 columns</p>\n",
              "</div>\n",
              "      <button class=\"colab-df-convert\" onclick=\"convertToInteractive('df-690c0e98-eec3-425a-8a92-aaa14675e443')\"\n",
              "              title=\"Convert this dataframe to an interactive table.\"\n",
              "              style=\"display:none;\">\n",
              "        \n",
              "  <svg xmlns=\"http://www.w3.org/2000/svg\" height=\"24px\"viewBox=\"0 0 24 24\"\n",
              "       width=\"24px\">\n",
              "    <path d=\"M0 0h24v24H0V0z\" fill=\"none\"/>\n",
              "    <path d=\"M18.56 5.44l.94 2.06.94-2.06 2.06-.94-2.06-.94-.94-2.06-.94 2.06-2.06.94zm-11 1L8.5 8.5l.94-2.06 2.06-.94-2.06-.94L8.5 2.5l-.94 2.06-2.06.94zm10 10l.94 2.06.94-2.06 2.06-.94-2.06-.94-.94-2.06-.94 2.06-2.06.94z\"/><path d=\"M17.41 7.96l-1.37-1.37c-.4-.4-.92-.59-1.43-.59-.52 0-1.04.2-1.43.59L10.3 9.45l-7.72 7.72c-.78.78-.78 2.05 0 2.83L4 21.41c.39.39.9.59 1.41.59.51 0 1.02-.2 1.41-.59l7.78-7.78 2.81-2.81c.8-.78.8-2.07 0-2.86zM5.41 20L4 18.59l7.72-7.72 1.47 1.35L5.41 20z\"/>\n",
              "  </svg>\n",
              "      </button>\n",
              "      \n",
              "  <style>\n",
              "    .colab-df-container {\n",
              "      display:flex;\n",
              "      flex-wrap:wrap;\n",
              "      gap: 12px;\n",
              "    }\n",
              "\n",
              "    .colab-df-convert {\n",
              "      background-color: #E8F0FE;\n",
              "      border: none;\n",
              "      border-radius: 50%;\n",
              "      cursor: pointer;\n",
              "      display: none;\n",
              "      fill: #1967D2;\n",
              "      height: 32px;\n",
              "      padding: 0 0 0 0;\n",
              "      width: 32px;\n",
              "    }\n",
              "\n",
              "    .colab-df-convert:hover {\n",
              "      background-color: #E2EBFA;\n",
              "      box-shadow: 0px 1px 2px rgba(60, 64, 67, 0.3), 0px 1px 3px 1px rgba(60, 64, 67, 0.15);\n",
              "      fill: #174EA6;\n",
              "    }\n",
              "\n",
              "    [theme=dark] .colab-df-convert {\n",
              "      background-color: #3B4455;\n",
              "      fill: #D2E3FC;\n",
              "    }\n",
              "\n",
              "    [theme=dark] .colab-df-convert:hover {\n",
              "      background-color: #434B5C;\n",
              "      box-shadow: 0px 1px 3px 1px rgba(0, 0, 0, 0.15);\n",
              "      filter: drop-shadow(0px 1px 2px rgba(0, 0, 0, 0.3));\n",
              "      fill: #FFFFFF;\n",
              "    }\n",
              "  </style>\n",
              "\n",
              "      <script>\n",
              "        const buttonEl =\n",
              "          document.querySelector('#df-690c0e98-eec3-425a-8a92-aaa14675e443 button.colab-df-convert');\n",
              "        buttonEl.style.display =\n",
              "          google.colab.kernel.accessAllowed ? 'block' : 'none';\n",
              "\n",
              "        async function convertToInteractive(key) {\n",
              "          const element = document.querySelector('#df-690c0e98-eec3-425a-8a92-aaa14675e443');\n",
              "          const dataTable =\n",
              "            await google.colab.kernel.invokeFunction('convertToInteractive',\n",
              "                                                     [key], {});\n",
              "          if (!dataTable) return;\n",
              "\n",
              "          const docLinkHtml = 'Like what you see? Visit the ' +\n",
              "            '<a target=\"_blank\" href=https://colab.research.google.com/notebooks/data_table.ipynb>data table notebook</a>'\n",
              "            + ' to learn more about interactive tables.';\n",
              "          element.innerHTML = '';\n",
              "          dataTable['output_type'] = 'display_data';\n",
              "          await google.colab.output.renderOutput(dataTable, element);\n",
              "          const docLink = document.createElement('div');\n",
              "          docLink.innerHTML = docLinkHtml;\n",
              "          element.appendChild(docLink);\n",
              "        }\n",
              "      </script>\n",
              "    </div>\n",
              "  </div>\n",
              "  "
            ]
          },
          "metadata": {},
          "execution_count": 20
        }
      ]
    },
    {
      "cell_type": "markdown",
      "source": [
        "## <font color=green>Traduzindo as Colunas</font>"
      ],
      "metadata": {
        "id": "ojjerUZs6nJG"
      }
    },
    {
      "cell_type": "code",
      "source": [
        "colunas = list(df_normalizado.columns)    #Obtive a lista com os nomes das colunas, para a seguir poder traduzí-las\n",
        "colunas"
      ],
      "metadata": {
        "colab": {
          "base_uri": "https://localhost:8080/",
          "height": 183
        },
        "id": "6knryLUhwZ8V",
        "outputId": "6d4017a1-f83f-4fb6-a054-62837c1a9013"
      },
      "execution_count": 21,
      "outputs": [
        {
          "output_type": "error",
          "ename": "NameError",
          "evalue": "ignored",
          "traceback": [
            "\u001b[0;31m---------------------------------------------------------------------------\u001b[0m",
            "\u001b[0;31mNameError\u001b[0m                                 Traceback (most recent call last)",
            "\u001b[0;32m<ipython-input-21-c226e7ad5b64>\u001b[0m in \u001b[0;36m<module>\u001b[0;34m()\u001b[0m\n\u001b[0;32m----> 1\u001b[0;31m \u001b[0mcolunas\u001b[0m \u001b[0;34m=\u001b[0m \u001b[0mlist\u001b[0m\u001b[0;34m(\u001b[0m\u001b[0mdf_normalizado\u001b[0m\u001b[0;34m.\u001b[0m\u001b[0mcolumns\u001b[0m\u001b[0;34m)\u001b[0m    \u001b[0;31m#Obtive a lista com os nomes das colunas, para a seguir poder traduzí-las\u001b[0m\u001b[0;34m\u001b[0m\u001b[0;34m\u001b[0m\u001b[0m\n\u001b[0m\u001b[1;32m      2\u001b[0m \u001b[0mcolunas\u001b[0m\u001b[0;34m\u001b[0m\u001b[0;34m\u001b[0m\u001b[0m\n",
            "\u001b[0;31mNameError\u001b[0m: name 'df_normalizado' is not defined"
          ]
        }
      ]
    },
    {
      "cell_type": "code",
      "source": [
        "colunas = {'customerID':'ID_Usuário',\n",
        " 'Churn':'Cancelamento',\n",
        " 'customer.gender':'Gênero',\n",
        " 'customer.SeniorCitizen':'Mais_de_65_anos',\n",
        " 'customer.Partner':'Cônjuje',\n",
        " 'customer.Dependents':'Dependentes',\n",
        " 'customer.tenure':'Meses_de_Contrato',\n",
        " 'phone.PhoneService':'Serviço_Telefônico',\n",
        " 'phone.MultipleLines':'Multiplas_Linhas',\n",
        " 'internet.InternetService':'Serviço_de_Internet',\n",
        " 'internet.OnlineSecurity':'Segurança_Online',\n",
        " 'internet.OnlineBackup':'Serviço_Backup_Online',\n",
        " 'internet.DeviceProtection':'Proteção_de_Dispositivo',\n",
        " 'internet.TechSupport':'Suporte_Técnico',\n",
        " 'internet.StreamingTV':'Assina_TV',\n",
        " 'internet.StreamingMovies':'Assina_Filmes',\n",
        " 'account.Contract':'Tipo_de_Contrato',\n",
        " 'account.PaperlessBilling':'Fatura_Online',\n",
        " 'account.PaymentMethod':'Forma_de_Pagamento',\n",
        " 'account.Charges.Monthly':'Custo_Mensal_de_Serviços',\n",
        " 'account.Charges.Total':'Total_Acumulado'}"
      ],
      "metadata": {
        "id": "GSlv4K5J6M2W"
      },
      "execution_count": null,
      "outputs": []
    },
    {
      "cell_type": "code",
      "source": [
        "df_traduzido = df_normalizado.rename(columns = colunas)   #Aqui faço a mudança dos nomes das colunas com base no dicionário criado acima"
      ],
      "metadata": {
        "id": "9rzBhE2T6MzZ"
      },
      "execution_count": null,
      "outputs": []
    },
    {
      "cell_type": "code",
      "source": [
        "df_traduzido.head(25)"
      ],
      "metadata": {
        "id": "Rt9ppTFZ6Mtp"
      },
      "execution_count": null,
      "outputs": []
    },
    {
      "cell_type": "markdown",
      "source": [
        "## <font color=green>Definindo Tipo das Variáveis</font>"
      ],
      "metadata": {
        "id": "WWCGnLFMRd-j"
      }
    },
    {
      "cell_type": "code",
      "source": [
        "colunas_traduz = list(df_traduzido.columns)    #Obtive a lista com os nomes das colunas e criei manualmente a lista abaixo definindo as variáveis\n",
        "colunas_traduz "
      ],
      "metadata": {
        "id": "n2w1ATurY_lL"
      },
      "execution_count": null,
      "outputs": []
    },
    {
      "cell_type": "markdown",
      "source": [
        "<font color=green>Definindo Tipo das Variáveis</font>\n",
        " - ID_Usuário = Qualitativa Nominal\n",
        " - Cancelamento = Qualitativa Nominal\n",
        " - Gênero = Qualitativa Nominal\n",
        " - Mais_de_65_anos = Qualitativa Ordinal\n",
        " - Cônjuje = Qualitativa Nominal\n",
        " - Dependentes = Qualitativa Nominal\n",
        " - Meses_de_Contrato = Quantitativa Discreta\n",
        " - Serviço_Telefônico = Qualitativa Nominal\n",
        " - Multiplas_Linhas = Qualitativa Nominal\n",
        " - Serviço_de_Internet = Qualitativa Nominal\n",
        " - Segurança_Online = Qualitativa Nominal\n",
        " - Serviço_Backup_Online = Qualitativa Nominal\n",
        " - Proteção_de_Dispositivo = Qualitativa Nominal\n",
        " - Suporte_Técnico = Qualitativa Nominal\n",
        " - Assina_TV = Qualitativa Nominal\n",
        " - Assina_Filmes = Qualitativa Nominal\n",
        " - Tipo_de_Contrato = Qualitativa Ordinal\n",
        " - Fatura_Online = Qualitativa Nominal\n",
        " - Forma_de_Pagamento = Qualitativa Nominal\n",
        " - Custo_Mensal_de_Serviços = Quantitativa Contínua\n",
        " - Total_Acumulado = Quantitativa Contínua\n",
        " "
      ],
      "metadata": {
        "id": "dr2sR7eyaS1y"
      }
    },
    {
      "cell_type": "code",
      "source": [
        "df_traduzido.info()   #Verificar o por que 'Total_Acumulado' está como object, se na verdade deve ser float64"
      ],
      "metadata": {
        "id": "l1GapmESAzvt"
      },
      "execution_count": null,
      "outputs": []
    },
    {
      "cell_type": "markdown",
      "source": [
        "## <font color=green>Verificando e Corrigindo Inconsistências</font>"
      ],
      "metadata": {
        "id": "uofMml38AgcA"
      }
    },
    {
      "cell_type": "code",
      "source": [
        "# Farei uma varredura nas colunas para procurar inconsistências\n",
        "\n",
        "print('\\033[1;4;33m-----  Quantidade Total de Usuários = {}\\033[\\n\\n'.format(len(df_traduzido)))\n",
        "\n",
        "for columns in df_traduzido:\n",
        "  analise_1 = df_traduzido[columns].describe()\n",
        "  analise_2 = df_traduzido[columns].value_counts()\n",
        "  contagem_1 = pd.value_counts(df_traduzido[columns].isnull()) # Verifica e conta quantos campos são NaN (NULOS)\n",
        "  contagem_2 = pd.value_counts(df_traduzido[columns] == '')  # Verifica e conta quantos campos são VAZIOS\n",
        "  print('\\033[1;4;33mAnálise Coluna:  {} \\033['.format(columns))\n",
        "  print('\\033[2;4;32m\\n-----  Análisando com DESCRIBE:\\033[\\n{}'.format(analise_1))\n",
        "  print('\\033[2;4;32m\\n-----  Análisando  com VALUE_COUNTS:\\033[\\n{}'.format(analise_2))\n",
        "  print('\\033[2;4;32m\\n-----  Análisando Campos NULOS = \\033[{}'.format(7267 - contagem_1.loc[False]))\n",
        "  print('\\033[2;4;32m\\n-----  Análisando Campos VAZIOS = \\033[{}'.format(7267 - contagem_2.loc[False]))\n",
        "  print('\\n'+'  -----  <>' * 15 + '\\n')"
      ],
      "metadata": {
        "id": "grJ5NdQZY_Tt"
      },
      "execution_count": null,
      "outputs": []
    },
    {
      "cell_type": "markdown",
      "source": [
        "### <font color=green>Observações da análise acima:</font>\n",
        "\n",
        "###. <font color=yellow>Cancelamento = Possui 224 células vazias. Vou excluir e guardar em outro dataframe.\n",
        "###. <font color=yellow>Mais_de_65_anos = Considerar onde é 0 = NO e onde é 1 = YES \n",
        "###. <font color=yellow>Multiplas_Linhas = Verificar se, caso NÃO tenha serviço de telefone o campo aqui não pode ser YES/True.\n",
        "###. <font color=yellow>Acho importante verificar se não há incoerências entre as respostas das seguintes colunas:\n",
        "- Segurança_Online\n",
        "- Serviço_Backup_Online\n",
        "- Proteção_de_Dispositivo\n",
        "- Suporte_Técnico\n",
        "- Assina_TV\n",
        "- Assina_Filmes\n",
        "- No caso das colunas acima, se elas tiverem o conteúdo 'No internet service', então é importante conferir se na coluna 'Serviço_de_Internet' ela está com 'No', caso contrário há uma informação conflitante.</font>\n",
        "\n",
        "###. <font color=yellow>Tipo_de_Contrato = Alterar as células para o seguinte:\n",
        "- Month_to_month -> 0\n",
        "- One_year -> 1\n",
        "- Two_year -> 2\n",
        "- Assim poderei ordenar essa categoria depois, se for necessário.</font>\n",
        "\n",
        "###. Total_Acumulado = Não têm todas as células preenchidas com números e, também, está como tipo 'object', mas o certo é ser 'float64' por conter apenas números</font>\n",
        "\n",
        "###. Acho interessante criar mais uma coluna com a quantidade de serviços contratados</font>"
      ],
      "metadata": {
        "id": "L7txK9puPerq"
      }
    },
    {
      "cell_type": "markdown",
      "source": [
        "### Continuação na Verificação de Inconsistências e Correção"
      ],
      "metadata": {
        "id": "fybjIP0IPzDl"
      }
    },
    {
      "cell_type": "code",
      "source": [
        "df_corrigido = df_traduzido"
      ],
      "metadata": {
        "id": "k2-8aH7RM-5t"
      },
      "execution_count": null,
      "outputs": []
    },
    {
      "cell_type": "code",
      "source": [
        "df_corrigido['Total_Acumulado'] = df_corrigido['Total_Acumulado'].apply(lambda x: str(x).replace(',','.'))  # Substituindo possiveis virgulas por ponto"
      ],
      "metadata": {
        "id": "gTnZnHWAAzfL"
      },
      "execution_count": null,
      "outputs": []
    },
    {
      "cell_type": "code",
      "source": [
        "df_corrigido['Total_Acumulado'] = df_corrigido['Total_Acumulado'].apply(lambda x: str(x).replace(' ','0')) # Substituindo espaços vazios por 0"
      ],
      "metadata": {
        "id": "-PY2dqNb5Hb4"
      },
      "execution_count": null,
      "outputs": []
    },
    {
      "cell_type": "code",
      "source": [
        "df_corrigido['Total_Acumulado'] = df_corrigido['Total_Acumulado'].astype('float64')"
      ],
      "metadata": {
        "id": "geY9BVEP40yM"
      },
      "execution_count": null,
      "outputs": []
    },
    {
      "cell_type": "code",
      "source": [
        "df_corrigido['Total_Acumulado'].value_counts()"
      ],
      "metadata": {
        "id": "0H33tIpb40uw"
      },
      "execution_count": null,
      "outputs": []
    },
    {
      "cell_type": "code",
      "source": [
        "df_corrigido['Total_Acumulado'].describe()    # Podemos ver que o o problema com os dados na coluna foram resolvidos"
      ],
      "metadata": {
        "id": "_daS82vFIcHH"
      },
      "execution_count": null,
      "outputs": []
    },
    {
      "cell_type": "markdown",
      "source": [
        "#### Substituição dos valores na coluna 'Mais_de_65_anos', conforme observações feitas mais acima"
      ],
      "metadata": {
        "id": "fRGPBaZPElMu"
      }
    },
    {
      "cell_type": "code",
      "source": [
        "idade = {0: 'No', 1: 'Yes'}"
      ],
      "metadata": {
        "id": "HBHlKEaGaTuA"
      },
      "execution_count": null,
      "outputs": []
    },
    {
      "cell_type": "code",
      "source": [
        "df_corrigido['Mais_de_65_anos'].replace(idade, inplace = True)"
      ],
      "metadata": {
        "id": "HgUdIBYEaTq7"
      },
      "execution_count": null,
      "outputs": []
    },
    {
      "cell_type": "code",
      "source": [
        "df_corrigido['Mais_de_65_anos'].value_counts() # Conferindo se deu certo - 0  =  6085 |  1  =  1182\n",
        "# Deu certo"
      ],
      "metadata": {
        "id": "jkbTN6q-aTnn"
      },
      "execution_count": null,
      "outputs": []
    },
    {
      "cell_type": "markdown",
      "source": [
        "#### Fazendo checagem da coluna Multiplas_Linhas com a coluna Serviço_Telefônico.\n",
        "- Aqui devemos verificar o seguinte: SE Multiplas_Linhas = Yes E Serviço_Telefônico = No, então temos um problema de incoerência de dados."
      ],
      "metadata": {
        "id": "VJw0qXeNEwUY"
      }
    },
    {
      "cell_type": "code",
      "source": [
        "teste = (df_corrigido['Serviço_Telefônico'] == 'No') & (df_corrigido['Multiplas_Linhas'] == 'Yes')"
      ],
      "metadata": {
        "id": "sTPsdFBHOZNe"
      },
      "execution_count": null,
      "outputs": []
    },
    {
      "cell_type": "code",
      "source": [
        "teste.value_counts() # O resultado abaixo nos mostra que está tudo certo, ou seja, NÃO há incoerência entre as respostas das duas colunas."
      ],
      "metadata": {
        "id": "KDCDaAfuOZKa"
      },
      "execution_count": null,
      "outputs": []
    },
    {
      "cell_type": "markdown",
      "source": [
        "#### Verificação da coerência entre os dados das várias colunas em relação a coluna 'Serviço_de_Internet':\n",
        "- Agora vamos verificar através de um laço for, a coerência entre os dados das várias colunas em relação a coluna 'Serviço_de_Internet', conforme as observações feitas mais acima."
      ],
      "metadata": {
        "id": "7kY1meLVFBeQ"
      }
    },
    {
      "cell_type": "code",
      "source": [
        "col_verif = ['Segurança_Online', 'Serviço_Backup_Online', 'Proteção_de_Dispositivo', 'Suporte_Técnico', 'Assina_TV', 'Assina_Filmes']   # Crie uma lista com as colunas que deverão ser comparadas com a coluna 'Serviço_de_Internet'"
      ],
      "metadata": {
        "id": "5-h4tMjxJMBH"
      },
      "execution_count": null,
      "outputs": []
    },
    {
      "cell_type": "code",
      "source": [
        "for x in col_verif:\n",
        "  compara = (df_corrigido['Serviço_de_Internet'] == 'No') & (df_corrigido[x] == 'Yes')   # Faço a comparação entre as colunas \n",
        "  contagem = compara.value_counts()   # Faço a contagem apenas das respostas True, que significa, o número de incoerência entre as colunas\n",
        "  print('\\033[2;4;32mA comparação da coluna {} resultou em:\\n {} \\033[\\n'.format(x, contagem))\n",
        "  print('-'*80)"
      ],
      "metadata": {
        "id": "fSGDoPSVJL-r"
      },
      "execution_count": null,
      "outputs": []
    },
    {
      "cell_type": "code",
      "source": [
        "# A análise acima mostra que está tudo certo."
      ],
      "metadata": {
        "id": "LT774_lTOZHW"
      },
      "execution_count": null,
      "outputs": []
    },
    {
      "cell_type": "markdown",
      "source": [
        "#### Alterando as células da coluna 'Tipo_de_Contrato' da seguinte forma:\n",
        "- Month_to_month -> 0\n",
        "- One year -> 1\n",
        "- Two year -> 2"
      ],
      "metadata": {
        "id": "nSdbvBvOFVSi"
      }
    },
    {
      "cell_type": "code",
      "source": [
        "alteracao = {'Month-to-month': 0, 'One year': 1, 'Two year': 2}"
      ],
      "metadata": {
        "id": "AW33xOpNPtpD"
      },
      "execution_count": null,
      "outputs": []
    },
    {
      "cell_type": "code",
      "source": [
        "df_corrigido['Tipo_de_Contrato'].replace(alteracao, inplace = True)"
      ],
      "metadata": {
        "id": "6FLekC86QMHc"
      },
      "execution_count": null,
      "outputs": []
    },
    {
      "cell_type": "code",
      "source": [
        "df_corrigido['Tipo_de_Contrato'].value_counts()   # Month-to-month    4005 | Two year          1743 | One year          1519\n",
        "# A substituição deu certo."
      ],
      "metadata": {
        "id": "KTyCmeg4QMEw"
      },
      "execution_count": null,
      "outputs": []
    },
    {
      "cell_type": "markdown",
      "source": [
        "# <font color=green>Adicionando Coluna 'Custo_Diario' na posição 18</font>"
      ],
      "metadata": {
        "id": "oFU2uEW8OgET"
      }
    },
    {
      "cell_type": "code",
      "source": [
        "df_corrigido.head()"
      ],
      "metadata": {
        "id": "KJNBa-GMObHx"
      },
      "execution_count": null,
      "outputs": []
    },
    {
      "cell_type": "code",
      "source": [
        "# Nova coluna a ser adicionada\n",
        "colun_18 = df_corrigido['Custo_Mensal_de_Serviços'] / 30\n",
        "  \n",
        "# Inserindo a coluna na posição 18\n",
        "df_corrigido.insert(loc = 17,\n",
        "          column = 'Custo_Diário',\n",
        "          value = colun_18.round(2))"
      ],
      "metadata": {
        "id": "FiE7p7EIObCA"
      },
      "execution_count": null,
      "outputs": []
    },
    {
      "cell_type": "code",
      "source": [
        "df_corrigido.head()"
      ],
      "metadata": {
        "id": "mswmSGwsQ0M-"
      },
      "execution_count": null,
      "outputs": []
    },
    {
      "cell_type": "markdown",
      "source": [
        "# <font color=green>Adicionando Coluna 'Serviços_Contratados' na posição 7</font>"
      ],
      "metadata": {
        "id": "NMkMYrIGf3iH"
      }
    },
    {
      "cell_type": "code",
      "source": [
        "# Criando uma lista com as qtdes de serviços contratados por cada cliente"
      ],
      "metadata": {
        "id": "tSEFmEzXgTbs"
      },
      "execution_count": null,
      "outputs": []
    },
    {
      "cell_type": "code",
      "source": [
        "nome_colunas = list(df_corrigido.columns) #  Pegando o nome das colunas para criar uma lista com as colunas especificas de serviços que devem ser analisadas para a contagem\n",
        "nome_colunas"
      ],
      "metadata": {
        "id": "SUFVRQUzhqRc"
      },
      "execution_count": null,
      "outputs": []
    },
    {
      "cell_type": "code",
      "source": [
        "# Lista contendo APENAS as colunas que são serviços.\n",
        "\n",
        "nome_colunas = ['Serviço_Telefônico',\n",
        " 'Multiplas_Linhas',\n",
        " 'Serviço_de_Internet',\n",
        " 'Segurança_Online',\n",
        " 'Serviço_Backup_Online',\n",
        " 'Proteção_de_Dispositivo',\n",
        " 'Suporte_Técnico',\n",
        " 'Assina_TV',\n",
        " 'Assina_Filmes']"
      ],
      "metadata": {
        "id": "AEtvgmKZiGVj"
      },
      "execution_count": null,
      "outputs": []
    },
    {
      "cell_type": "code",
      "source": [
        "lista_soma = [0] * df_corrigido.shape[0] # Criei uma lista de 0 com a qtde de elementos do nosso DT\n",
        "for x in nome_colunas:    # Para cada string na lista 'nome_colunas' fará o que está abaixo:\n",
        "  lista = []  # Cria uma vazia\n",
        "  for y in df_corrigido[x]: # Para cada linha da coluna x (item da lista 'nome_colunas'), faz a comparação abaixo e adiciona 1 ou 0 em 'lista'.\n",
        "    if (y != 'No') & (y != 'No internet service') & (y != 'No phone service'):\n",
        "      lista.append(1)\n",
        "    else:\n",
        "      lista.append(0)\n",
        "  lista_soma = list(map(lambda v1, v2: v1 + v2, lista, lista_soma))   # A função map faz a soma dos elementos de 'lista_soma' e 'lista' através de uma função lambda como parâmetro"
      ],
      "metadata": {
        "id": "dKFzfMcDzS1E"
      },
      "execution_count": null,
      "outputs": []
    },
    {
      "cell_type": "code",
      "source": [
        "lista_soma = pd.Series(lista_soma)\n",
        "lista_soma.value_counts()"
      ],
      "metadata": {
        "id": "sxt1LclDFnJS"
      },
      "execution_count": null,
      "outputs": []
    },
    {
      "cell_type": "code",
      "source": [
        "df_corrigido.insert(loc = 7, column = 'Serviços_Contratados', value = lista_soma)"
      ],
      "metadata": {
        "id": "H9ZKQ4s_gTZA"
      },
      "execution_count": null,
      "outputs": []
    },
    {
      "cell_type": "code",
      "source": [
        "df_corrigido.head()"
      ],
      "metadata": {
        "id": "lAQ-KHmExEjK"
      },
      "execution_count": null,
      "outputs": []
    },
    {
      "cell_type": "code",
      "source": [
        ""
      ],
      "metadata": {
        "id": "LwQxXIy0gTQq"
      },
      "execution_count": null,
      "outputs": []
    },
    {
      "cell_type": "markdown",
      "source": [
        "# <font color=green>Separando os Clientes (Permanecem e Cancelaram)</font>"
      ],
      "metadata": {
        "id": "Y9J_l5Yq_frd"
      }
    },
    {
      "cell_type": "code",
      "source": [
        "df_Cancelamento_vazio = df_corrigido[~((df_corrigido.Cancelamento == 'Yes') | (df_corrigido.Cancelamento == 'No'))] # Criando um DF só com os usuários com Churn vazio"
      ],
      "metadata": {
        "id": "hwFWvBiYTk3B"
      },
      "execution_count": null,
      "outputs": []
    },
    {
      "cell_type": "code",
      "source": [
        "df_Cancelamento_vazio"
      ],
      "metadata": {
        "id": "haGCQ77_TkqC"
      },
      "execution_count": null,
      "outputs": []
    },
    {
      "cell_type": "code",
      "source": [
        "df_corrigido = df_corrigido[((df_corrigido.Cancelamento == 'Yes') | (df_corrigido.Cancelamento == 'No'))]     #Removendo os usuário com Churn vazio"
      ],
      "metadata": {
        "id": "25qqDFeMj_GJ"
      },
      "execution_count": null,
      "outputs": []
    },
    {
      "cell_type": "code",
      "source": [
        "df_corrigido"
      ],
      "metadata": {
        "id": "CW5_U63bj_C1"
      },
      "execution_count": null,
      "outputs": []
    },
    {
      "cell_type": "code",
      "source": [
        "# Salvando o DataFrame com os clientes que estão com o campo 'Churn' vazio.\n",
        "df_Cancelamento_vazio.to_csv('Clientes_com_Churn_Vazio.csv', index = False)"
      ],
      "metadata": {
        "id": "10LDbkXrj-_p"
      },
      "execution_count": null,
      "outputs": []
    },
    {
      "cell_type": "code",
      "source": [
        ""
      ],
      "metadata": {
        "id": "B7o0M4ULoGjF"
      },
      "execution_count": null,
      "outputs": []
    },
    {
      "cell_type": "code",
      "source": [
        ""
      ],
      "metadata": {
        "id": "Rk5X-eY2oGgS"
      },
      "execution_count": null,
      "outputs": []
    },
    {
      "cell_type": "code",
      "source": [
        "df_grupo_status = df_corrigido.groupby(['Cancelamento'])"
      ],
      "metadata": {
        "id": "x8_1s4RiKwEt"
      },
      "execution_count": null,
      "outputs": []
    },
    {
      "cell_type": "code",
      "source": [
        "df_Cancelaram = df_corrigido[df_corrigido['Cancelamento'] == 'Yes'].reset_index()   # Criei um dataframe contendo apenas clientes que Cancelaram (Churn = Yes)\n",
        "del df_Cancelaram['index']    # Por usar o comando reset_index acima cria-se uma coluna com os números antigos do indice, porém não serão necessários, por isso, aqui deleto ela\n",
        "df_Cancelaram.count()"
      ],
      "metadata": {
        "id": "UA7wPRPDTLpF"
      },
      "execution_count": null,
      "outputs": []
    },
    {
      "cell_type": "code",
      "source": [
        "df_Permanecem = df_corrigido[df_corrigido['Cancelamento'] == 'No'].reset_index()     #Criei um dataframe contendo apenas clientes que Permaneceram (Churn = No)\n",
        "del df_Permanecem['index']    # Por usar o comando reset_index acima cria-se uma coluna com os números antigos do indice, porém não serão necessários, por isso, aqui deleto ela\n",
        "df_Permanecem.count()"
      ],
      "metadata": {
        "id": "wPNIrY_mUhJ8"
      },
      "execution_count": null,
      "outputs": []
    },
    {
      "cell_type": "markdown",
      "source": [
        "# <font color=green>Análise Exploratória do Grupo dos que CANCELARAM</font>"
      ],
      "metadata": {
        "id": "eJGgjX5iV1AD"
      }
    },
    {
      "cell_type": "code",
      "source": [
        "df_grupo_status.get_group('Yes')"
      ],
      "metadata": {
        "id": "cNday4apLJl_"
      },
      "execution_count": null,
      "outputs": []
    },
    {
      "cell_type": "code",
      "source": [
        "# Tabela do cruzamento dos que cancelaram dividida por sexo e idade\n",
        "tabela_frequencia_1 = pd.crosstab(df_grupo_status.get_group('Yes')['Gênero'], df_grupo_status.get_group('Yes')['Mais_de_65_anos'])"
      ],
      "metadata": {
        "id": "raKKqIZdWBEx"
      },
      "execution_count": null,
      "outputs": []
    },
    {
      "cell_type": "code",
      "source": [
        "tabela_frequencia_1"
      ],
      "metadata": {
        "id": "WsQv04TcN5Gz"
      },
      "execution_count": null,
      "outputs": []
    },
    {
      "cell_type": "code",
      "source": [
        "tabela_porcentagem_1 = pd.crosstab(df_grupo_status.get_group('Yes')['Gênero'], df_grupo_status.get_group('Yes')['Mais_de_65_anos'], normalize= True).round(3)"
      ],
      "metadata": {
        "id": "Yce84302WA1f"
      },
      "execution_count": null,
      "outputs": []
    },
    {
      "cell_type": "code",
      "source": [
        "tabela_porcentagem_1"
      ],
      "metadata": {
        "id": "VS0yRdhuWAys"
      },
      "execution_count": null,
      "outputs": []
    },
    {
      "cell_type": "markdown",
      "source": [
        "<font color=green>Observações: Com base nas duas tabelas vemos que aproximadamente 74% estão abaixo dos 65 anos e a distribuição entre homens e mulheres é praticamente a mesma.</font>"
      ],
      "metadata": {
        "id": "E8Wt1YASc_4Z"
      }
    },
    {
      "cell_type": "markdown",
      "source": [
        "###<font color=green>Analisando Graficamente</font>"
      ],
      "metadata": {
        "id": "s4DhpizaR665"
      }
    },
    {
      "cell_type": "code",
      "source": [
        "ax = sns.boxplot(x = 'Serviços_Contratados', y = 'Gênero', hue = 'Mais_de_65_anos', data = df_grupo_status.get_group('Yes'))\n",
        "ax.figure.set_size_inches(18,10)\n",
        "ax.set_title('Distribuição de Frequência - Qtde de Serviços Contratados', fontsize = 18)\n",
        "ax"
      ],
      "metadata": {
        "id": "1y3EzcEkWAvf"
      },
      "execution_count": null,
      "outputs": []
    },
    {
      "cell_type": "markdown",
      "source": [
        "<font color=yellow>Observação: As pessoa idosas tendem a contratar mais serviços. De modo geral podemos assumir que no gráfico acima a distribuição entre homens e mulheres é igual.<font>"
      ],
      "metadata": {
        "id": "9cBuwvAKb7wE"
      }
    },
    {
      "cell_type": "code",
      "source": [
        "bx = sns.boxplot(x = 'Custo_Mensal_de_Serviços', y = 'Gênero', hue = 'Mais_de_65_anos', data = df_grupo_status.get_group('Yes'))\n",
        "bx.figure.set_size_inches(12,10)\n",
        "bx.set_title('Análise de Distribuição em Relação ao Custo Mensal', fontsize = 18)\n",
        "bx"
      ],
      "metadata": {
        "id": "EX3qgMIRQdIg"
      },
      "execution_count": null,
      "outputs": []
    },
    {
      "cell_type": "markdown",
      "source": [
        "<font color=yellow>Observação: Seguindo a observação anterior, faz sentido que a mediana aqui, dos idosos, seja um pouco maior do que das outras idades. Vejo também que há uma pequena diferença nos gastos mensais entre homens e mulheres<font>"
      ],
      "metadata": {
        "id": "BKUdI3J1ckl3"
      }
    },
    {
      "cell_type": "code",
      "source": [
        "df_grupo_status.get_group('Yes')['Custo_Mensal_de_Serviços'].describe()"
      ],
      "metadata": {
        "id": "EdKlk1hNWAmY"
      },
      "execution_count": null,
      "outputs": []
    },
    {
      "cell_type": "code",
      "source": [
        "cx = sns.distplot(df_grupo_status.get_group('Yes')['Custo_Mensal_de_Serviços'])\n",
        "cx.figure.set_size_inches(12, 6)\n",
        "cx.set_title('Distribuição de Frequência em relação ao Custo Mensal', fontsize = 18)\n",
        "cx\n",
        "\n",
        "# Observando a linha de densidade do gráfico abaixo observamos uma tendência de uma Assimetria à Esquerda"
      ],
      "metadata": {
        "id": "O3onL2FXWyet"
      },
      "execution_count": null,
      "outputs": []
    },
    {
      "cell_type": "code",
      "source": [
        "dx = sns.boxplot(x = 'Custo_Mensal_de_Serviços', y = 'Gênero', hue = 'Cancelamento', data = df_corrigido)\n",
        "dx.figure.set_size_inches(18, 12)\n",
        "dx.set_title('Análise de Comparação entre os que Permanecem x Cancelaram em Relação ao Custo Mensal', fontsize = 18)\n",
        "dx"
      ],
      "metadata": {
        "id": "G-dold0OY5E9"
      },
      "execution_count": null,
      "outputs": []
    },
    {
      "cell_type": "markdown",
      "source": [
        "<font color=yellow>Observação: Fica claro que as pessoas que cancelaram tinham um custo médio mensal maior do que as que permaneceram.<font>"
      ],
      "metadata": {
        "id": "r1uu-0nndfb1"
      }
    },
    {
      "cell_type": "code",
      "source": [
        "ex = sns.boxplot(x = 'Serviços_Contratados', y = 'Gênero', hue = 'Cancelamento', data = df_corrigido)\n",
        "ex.figure.set_size_inches(18, 12)\n",
        "ex.set_title('Análise de Comparação entre os que Permanecem x Cancelaram em Relação à Qtde de Serviços Contratados', fontsize = 18)\n",
        "ex"
      ],
      "metadata": {
        "id": "ApybTHeBaQwT"
      },
      "execution_count": null,
      "outputs": []
    },
    {
      "cell_type": "markdown",
      "source": [
        "<font color=yellow>Observação: A mediana é igual para ambos grupos e o grupo dos que cancelaram tem uma concentração maior no range de 3 e 5 serviços contratados.<font>"
      ],
      "metadata": {
        "id": "YdFYn_m_aqh_"
      }
    },
    {
      "cell_type": "code",
      "source": [
        "fx = sns.boxplot(x = 'Meses_de_Contrato', y = 'Gênero', hue = 'Cancelamento', data = df_corrigido)\n",
        "fx.figure.set_size_inches(20, 12)\n",
        "fx.set_title('Análise de Comparação entre os que Permanecem x Cancelaram em Relação ao Tempo de Contrato', fontsize = 18)\n",
        "fx"
      ],
      "metadata": {
        "id": "ieY_OA9lbVGx"
      },
      "execution_count": null,
      "outputs": []
    },
    {
      "cell_type": "markdown",
      "source": [
        "<font color=yellow>Observação: Fica claro que as pessoas que cancelaram tem um tempo médio de contrato bem menor do que as que permaneceram.<font>"
      ],
      "metadata": {
        "id": "wO6ildCpecgP"
      }
    },
    {
      "cell_type": "code",
      "source": [
        "tabela_tempo_contrato = pd.crosstab(df_corrigido['Cancelamento'], df_corrigido['Gênero'], values = df_corrigido['Meses_de_Contrato'], aggfunc={'min', 'mean', 'median', 'max', 'std'})\n",
        "tabela_tempo_contrato"
      ],
      "metadata": {
        "id": "rDspFixseNiB"
      },
      "execution_count": null,
      "outputs": []
    },
    {
      "cell_type": "markdown",
      "source": [
        "<font color=yellow>Observação: Na tabela podemos analisar algumas medidas separatrizes sobre o tempo de contrato, podendo comparar os que permanecem com os que cancelaram \n",
        "- A média do tempo de contrato das pessoas que cancelaram é aproximadamente de 20 meses a menos.<font>"
      ],
      "metadata": {
        "id": "jBRLPg38q4mA"
      }
    },
    {
      "cell_type": "markdown",
      "source": [
        "##<font color=green>Analise e Comparação de quais são os serviços mais contratados entre cada grupo.<font>"
      ],
      "metadata": {
        "id": "ZEHWwjDXremg"
      }
    },
    {
      "cell_type": "code",
      "source": [
        "nome_colunas"
      ],
      "metadata": {
        "id": "E2yLkGQYBf2A"
      },
      "execution_count": null,
      "outputs": []
    },
    {
      "cell_type": "code",
      "source": [
        "# A função mescla faz a soma dos elementos de 'D1' e 'D2'.\n",
        "def mescla (D1, D2):\n",
        "    unido = {**D1, **D2}\n",
        "    return unido\n",
        "\n",
        "lista_status = ['Yes', 'No']\n",
        "\n",
        "dicio_soma_1 = {}\n",
        "dicio_soma_2 = {}\n",
        "\n",
        "for status in lista_status:\n",
        "  for x in nome_colunas:    # Para cada string na lista 'nome_colunas' fará o que está abaixo:\n",
        "    n = 0\n",
        "    dicio_0 = {}\n",
        "    for y in df_grupo_status.get_group(status)[x]: # Para cada linha da coluna x (item da lista 'nome_colunas'), faz a comparação abaixo e adiciona 1 ou 0 em 'lista'.\n",
        "      if (y != 'No') & (y != 'No internet service') & (y != 'No phone service'):\n",
        "        n +=1\n",
        "\n",
        "    dicio_0 = {x : n}\n",
        "      \n",
        "    if status == 'Yes':\n",
        "      dicio_soma_1 =  (mescla(dicio_soma_1, dicio_0)) \n",
        "    else:\n",
        "      dicio_soma_2 =  (mescla(dicio_soma_2, dicio_0))"
      ],
      "metadata": {
        "id": "4cOPPu8zsBYt"
      },
      "execution_count": null,
      "outputs": []
    },
    {
      "cell_type": "code",
      "source": [
        "# Transformando os dicionários criados acima em dataframes\n",
        "dicio_soma_1 = pd.DataFrame(dicio_soma_1, index = [0]).rename(index = {0:'Cancelou'})\n",
        "dicio_soma_2 = pd.DataFrame(dicio_soma_2, index = [0]).rename(index = {0:'Permanece'})\n",
        "\n",
        "# Concatenando os dicionários em um novo dataframe\n",
        "tabela_qtde_serviços = pd.concat([dicio_soma_1, dicio_soma_2])"
      ],
      "metadata": {
        "id": "cv1X-MOIZ-fK"
      },
      "execution_count": null,
      "outputs": []
    },
    {
      "cell_type": "code",
      "source": [
        "tabela_qtde_serviços"
      ],
      "metadata": {
        "id": "Ib5wXb8TZmuZ"
      },
      "execution_count": null,
      "outputs": []
    },
    {
      "cell_type": "code",
      "source": [
        "# Transpondo o dataframe, de modo que as colunas virem linhas e as linhas colunas\n",
        "tabela_qtde_serviços = tabela_qtde_serviços.T.reset_index()"
      ],
      "metadata": {
        "id": "vXnb9qPyt-yj"
      },
      "execution_count": null,
      "outputs": []
    },
    {
      "cell_type": "code",
      "source": [
        "# Mudando o nome da coluna 'index' para 'Serviços'\n",
        "tabela_qtde_serviços.rename(columns = {'index':'Serviços'}, inplace = True)"
      ],
      "metadata": {
        "id": "fg1Hs32e8sgb"
      },
      "execution_count": null,
      "outputs": []
    },
    {
      "cell_type": "code",
      "source": [
        "tabela_qtde_serviços"
      ],
      "metadata": {
        "id": "GavnvL0R9fBI"
      },
      "execution_count": null,
      "outputs": []
    },
    {
      "cell_type": "code",
      "source": [
        "# Criando nova coluna com a porcentagem de cancelamentos para cada serviço\n",
        "tabela_qtde_serviços['% Cancelamento'] = (tabela_qtde_serviços.Cancelou / (tabela_qtde_serviços.Cancelou + tabela_qtde_serviços.Permanece))*100"
      ],
      "metadata": {
        "id": "DwSbZbHRZ9uw"
      },
      "execution_count": null,
      "outputs": []
    },
    {
      "cell_type": "code",
      "source": [
        "tabela_qtde_serviços.round(2)"
      ],
      "metadata": {
        "id": "rsO5hdP2wew1"
      },
      "execution_count": null,
      "outputs": []
    },
    {
      "cell_type": "code",
      "source": [
        "# Para cada coluna de serviço disponível vamos gerar um gráfico comparando a quantidade de pessoas que aderiram a esse serviço e, também, comparar entre os grupos dos Cancelaram e Permaneceram\n",
        "for x in nome_colunas:\n",
        "  ax = sns.displot(x = df_corrigido[x], hue = df_corrigido['Cancelamento'])\n",
        "  ax.figure.set_size_inches(10,8)\n",
        "  ax.set_ylabels('Qtde de Clientes', fontsize = 10)"
      ],
      "metadata": {
        "id": "RY2oYy4iADwy"
      },
      "execution_count": null,
      "outputs": []
    },
    {
      "cell_type": "code",
      "source": [
        ""
      ],
      "metadata": {
        "id": "wqKw1fZNsBM6"
      },
      "execution_count": null,
      "outputs": []
    },
    {
      "cell_type": "code",
      "source": [
        ""
      ],
      "metadata": {
        "id": "N_GF895ssBKI"
      },
      "execution_count": null,
      "outputs": []
    },
    {
      "cell_type": "code",
      "source": [
        ""
      ],
      "metadata": {
        "id": "cdmXw2GysBE9"
      },
      "execution_count": null,
      "outputs": []
    }
  ]
}